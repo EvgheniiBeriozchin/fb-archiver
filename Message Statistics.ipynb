{
 "cells": [
  {
   "cell_type": "code",
   "execution_count": 3,
   "id": "coral-reverse",
   "metadata": {},
   "outputs": [],
   "source": [
    "import json\n",
    "import os, re"
   ]
  },
  {
   "cell_type": "code",
   "execution_count": 50,
   "id": "early-resort",
   "metadata": {},
   "outputs": [],
   "source": [
    "#Function to count all messages per chat\n",
    "def count_messages(filepath):\n",
    "    name = \"Group\"\n",
    "    group = False\n",
    "    count = 0\n",
    "    \n",
    "    with open(filepath, \"r\") as f:\n",
    "        messages = json.load(f)\n",
    "        if len(messages[\"participants\"]) > 2:\n",
    "            group = True\n",
    "        else:\n",
    "            name = messages[\"participants\"][0][\"name\"]\n",
    "        count = len(messages[\"messages\"])\n",
    "        \n",
    "    return (name, count, group)"
   ]
  },
  {
   "cell_type": "code",
   "execution_count": 63,
   "id": "wireless-password",
   "metadata": {},
   "outputs": [],
   "source": [
    "#Function to count all messages per user\n",
    "def count_received_messages(filepath):\n",
    "    name_count_dict = dict()\n",
    "    \n",
    "    with open(filepath, \"r\") as f:\n",
    "        messages = json.load(f)\n",
    "        for participant in messages[\"participants\"]:\n",
    "            name_count_dict[participant[\"name\"]] = 0\n",
    "            \n",
    "        for message in messages[\"messages\"]:\n",
    "            if message[\"sender_name\"] in name_count_dict.keys():\n",
    "                name_count_dict[message[\"sender_name\"]] += 1\n",
    "            \n",
    "    return name_count_dict"
   ]
  },
  {
   "cell_type": "code",
   "execution_count": null,
   "id": "reverse-memphis",
   "metadata": {},
   "outputs": [],
   "source": [
    "#Input your path here\n",
    "path = \"./facebook-evgheniiberiozchin/messages/inbox\""
   ]
  },
  {
   "cell_type": "code",
   "execution_count": null,
   "id": "incredible-plenty",
   "metadata": {},
   "outputs": [],
   "source": [
    "#Count by chat\n",
    "counts = []\n",
    "\n",
    "for folder in os.listdir(path):\n",
    "    count = 0\n",
    "    for file in os.listdir(path + \"/\" + folder):\n",
    "        if re.match(r\"message_[0-9]+.json\", file):\n",
    "            (name, file_count, group) = count_messages(path + \"/\" + folder + \"/\" + file)\n",
    "            count += file_count\n",
    "    if group:\n",
    "        name = folder[:folder.find(\"_\")]\n",
    "    counts.append((name, count, group))\n",
    "            \n",
    "#Top 30 private chats by nr. of messages       \n",
    "private_chats_counts = filter(lambda count_tuple : not count_tuple[2], counts)\n",
    "private_chats_counts = sorted(private_chats_counts, key = lambda count_tuple : count_tuple[1], reverse = True)\n",
    "for count_tuple in private_chats_counts[:30]:\n",
    "    print(\"Name: {}, Count: {}\".format(count_tuple[0], count_tuple[1]))\n",
    "    \n",
    "print(\"\\n\\n\\n\")\n",
    "\n",
    "#Top 20 group chats by nr. of messages\n",
    "group_chats_counts = filter(lambda count_tuple : count_tuple[2], counts)\n",
    "group_chats_counts = sorted(group_chats_counts, key = lambda count_tuple : count_tuple[1], reverse = True)\n",
    "for count_tuple in group_chats_counts[:20]:\n",
    "    print(\"Name: {}, Count: {}\".format(count_tuple[0], count_tuple[1]))\n",
    "            "
   ]
  },
  {
   "cell_type": "code",
   "execution_count": null,
   "id": "bronze-ceiling",
   "metadata": {},
   "outputs": [],
   "source": [
    "#Count by person\n",
    "counts = dict()\n",
    "\n",
    "for folder in os.listdir(path):\n",
    "    for file in os.listdir(path + \"/\" + folder):\n",
    "        if re.match(r\"message_[0-9]+.json\", file):\n",
    "            file_dict = count_received_messages(path + \"/\" + folder + \"/\" + file)\n",
    "            for name in file_dict.keys():\n",
    "                if name in counts:\n",
    "                    counts[name] += file_dict[name]\n",
    "                else:\n",
    "                    counts[name] = file_dict[name]\n",
    "\n",
    "#Top 30 people by nr. of messages                    \n",
    "chats_counts = sorted(counts.items(), key = lambda count_tuple : count_tuple[1], reverse = True)                    \n",
    "for count_tuple in chats_counts[:30]:\n",
    "    print(\"Name: {}, Count: {}\".format(count_tuple[0], count_tuple[1]))"
   ]
  },
  {
   "cell_type": "code",
   "execution_count": null,
   "id": "quality-integral",
   "metadata": {},
   "outputs": [],
   "source": [
    "#Input your folder name corresponding to a chat here\n",
    "#Normally formated like this: \"chatnameasoneword_somecode\"\n",
    "chat_name = \"\""
   ]
  },
  {
   "cell_type": "code",
   "execution_count": null,
   "id": "adjustable-change",
   "metadata": {},
   "outputs": [],
   "source": [
    "#Count messages per person in a chat\n",
    "chat_path = path + chat_name\n",
    "counts = dict()\n",
    "\n",
    "for file in os.listdir(path):\n",
    "        if re.match(r\"message_[0-9]+.json\", file):\n",
    "            file_dict = count_received_messages(path + \"/\" + file)\n",
    "            for name in file_dict.keys():\n",
    "                if name in counts:\n",
    "                    counts[name] += file_dict[name]\n",
    "                else:\n",
    "                    counts[name] = file_dict[name]\n",
    "                    \n",
    "chats_counts = sorted(counts.items(), key = lambda count_tuple : count_tuple[1], reverse = True)                    \n",
    "for count_tuple in chats_counts:\n",
    "    print(\"Name: {}, Count: {}\".format(count_tuple[0], count_tuple[1]))"
   ]
  },
  {
   "cell_type": "code",
   "execution_count": null,
   "id": "official-toner",
   "metadata": {},
   "outputs": [],
   "source": []
  }
 ],
 "metadata": {
  "kernelspec": {
   "display_name": "Python 3",
   "language": "python",
   "name": "python3"
  },
  "language_info": {
   "codemirror_mode": {
    "name": "ipython",
    "version": 3
   },
   "file_extension": ".py",
   "mimetype": "text/x-python",
   "name": "python",
   "nbconvert_exporter": "python",
   "pygments_lexer": "ipython3",
   "version": "3.6.9"
  }
 },
 "nbformat": 4,
 "nbformat_minor": 5
}
